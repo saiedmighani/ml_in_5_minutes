{
 "cells": [
  {
   "cell_type": "code",
   "execution_count": 4,
   "metadata": {},
   "outputs": [
    {
     "data": {
      "image/png": "[encoded data removed]",
      "text/plain": [
       "<Figure size 432x288 with 1 Axes>"
      ]
     },
     "metadata": {
      "needs_background": "light"
     },
     "output_type": "display_data"
    }
   ],
   "source": [
    "def draw_n_sample(N):\n",
    "    import numpy as np\n",
    "    import matplotlib.pyplot as plt\n",
    "    mu = 0\n",
    "    sd = 1\n",
    "    sample_space = np.random.normal(mu, sd, N)\n",
    "    plt.hist(sample_space)\n",
    "    \n",
    "draw_n_sample(200000)"
   ]
  },
  {
   "cell_type": "code",
   "execution_count": 9,
   "metadata": {},
   "outputs": [
    {
     "data": {
      "text/plain": [
       "18"
      ]
     },
     "execution_count": 9,
     "metadata": {},
     "output_type": "execute_result"
    }
   ],
   "source": [
    "def sum_odd_array_elements(A):\n",
    "    sum_ = 0\n",
    "    for i in range(1, len(A), 2):\n",
    "        sum_ += A[i]\n",
    "    return sum_\n",
    "\n",
    "A = [2, 4, 5, 6, 7, 8]\n",
    "result = sum_odd_array_elements(A)\n",
    "\n",
    "result"
   ]
  },
  {
   "cell_type": "code",
   "execution_count": null,
   "metadata": {},
   "outputs": [],
   "source": []
  }
 ],
 "metadata": {
  "kernelspec": {
   "display_name": "Python [conda env:dsi]",
   "language": "python",
   "name": "conda-env-dsi-py"
  },
  "language_info": {
   "codemirror_mode": {
    "name": "ipython",
    "version": 3
   },
   "file_extension": ".py",
   "mimetype": "text/x-python",
   "name": "python",
   "nbconvert_exporter": "python",
   "pygments_lexer": "ipython3",
   "version": "3.7.0"
  }
 },
 "nbformat": 4,
 "nbformat_minor": 4
}
